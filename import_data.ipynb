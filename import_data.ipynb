{
 "cells": [
  {
   "cell_type": "markdown",
   "metadata": {},
   "source": [
    "# Import data\n",
    "In this Jupyter Notebook, you will learn how to import data from CSV into Jupyter Notebook"
   ]
  },
  {
   "cell_type": "code",
   "execution_count": 32,
   "metadata": {
    "collapsed": true
   },
   "outputs": [],
   "source": [
    "#import the package \"Pandas\" into Jupyter Notebook\n",
    "import pandas as pd\n",
    "import matplotlib.pyplot as plt\n",
    "%matplotlib inline"
   ]
  },
  {
   "cell_type": "code",
   "execution_count": 21,
   "metadata": {
    "collapsed": true
   },
   "outputs": [],
   "source": [
    "#We import the stock data of Facebook into Jupyter Notebook. The CSV file is located in the folder called \"Data\" in your Workspace\n",
    "#We then name the DataFrame name as 'fb'\n",
    "fb = pd.DataFrame.from_csv('../data/facebook.csv')"
   ]
  },
  {
   "cell_type": "markdown",
   "metadata": {},
   "source": [
    "### Instruction\n",
    "Now is your turn to import the stock price of Microsoft (microsoft.csv), of which the CSV is located in the same folder, and rename the Dataframe in \"ms\". "
   ]
  },
  {
   "cell_type": "code",
   "execution_count": 22,
   "metadata": {
    "collapsed": true
   },
   "outputs": [],
   "source": [
    "ms = pd.DataFrame.from_csv('../data/microsoft.csv')"
   ]
  },
  {
   "cell_type": "code",
   "execution_count": 23,
   "metadata": {},
   "outputs": [
    {
     "name": "stdout",
     "output_type": "stream",
     "text": [
      "46.73\n"
     ]
    }
   ],
   "source": [
    "# run this cell to ensure Microsoft's stock data is imported\n",
    "print(ms.iloc[0, 0])"
   ]
  },
  {
   "cell_type": "markdown",
   "metadata": {},
   "source": [
    "** Expected output: ** 46.73"
   ]
  },
  {
   "cell_type": "code",
   "execution_count": 24,
   "metadata": {},
   "outputs": [
    {
     "data": {
      "text/html": [
       "<div>\n",
       "<table border=\"1\" class=\"dataframe\">\n",
       "  <thead>\n",
       "    <tr style=\"text-align: right;\">\n",
       "      <th></th>\n",
       "      <th>Open</th>\n",
       "      <th>High</th>\n",
       "      <th>Low</th>\n",
       "      <th>Close</th>\n",
       "      <th>Adj Close</th>\n",
       "      <th>Volume</th>\n",
       "    </tr>\n",
       "    <tr>\n",
       "      <th>Date</th>\n",
       "      <th></th>\n",
       "      <th></th>\n",
       "      <th></th>\n",
       "      <th></th>\n",
       "      <th></th>\n",
       "      <th></th>\n",
       "    </tr>\n",
       "  </thead>\n",
       "  <tbody>\n",
       "    <tr>\n",
       "      <th>2014-12-31</th>\n",
       "      <td>20.400000</td>\n",
       "      <td>20.510000</td>\n",
       "      <td>19.990000</td>\n",
       "      <td>20.049999</td>\n",
       "      <td>19.459270</td>\n",
       "      <td>4157500</td>\n",
       "    </tr>\n",
       "    <tr>\n",
       "      <th>2015-01-02</th>\n",
       "      <td>20.129999</td>\n",
       "      <td>20.280001</td>\n",
       "      <td>19.809999</td>\n",
       "      <td>20.129999</td>\n",
       "      <td>19.536913</td>\n",
       "      <td>2842000</td>\n",
       "    </tr>\n",
       "    <tr>\n",
       "      <th>2015-01-05</th>\n",
       "      <td>20.129999</td>\n",
       "      <td>20.190001</td>\n",
       "      <td>19.700001</td>\n",
       "      <td>19.790001</td>\n",
       "      <td>19.206934</td>\n",
       "      <td>4948800</td>\n",
       "    </tr>\n",
       "    <tr>\n",
       "      <th>2015-01-06</th>\n",
       "      <td>19.820000</td>\n",
       "      <td>19.840000</td>\n",
       "      <td>19.170000</td>\n",
       "      <td>19.190001</td>\n",
       "      <td>18.624611</td>\n",
       "      <td>4944100</td>\n",
       "    </tr>\n",
       "    <tr>\n",
       "      <th>2015-01-07</th>\n",
       "      <td>19.330000</td>\n",
       "      <td>19.500000</td>\n",
       "      <td>19.080000</td>\n",
       "      <td>19.139999</td>\n",
       "      <td>18.576082</td>\n",
       "      <td>8045200</td>\n",
       "    </tr>\n",
       "  </tbody>\n",
       "</table>\n",
       "</div>"
      ],
      "text/plain": [
       "                 Open       High        Low      Close  Adj Close   Volume\n",
       "Date                                                                      \n",
       "2014-12-31  20.400000  20.510000  19.990000  20.049999  19.459270  4157500\n",
       "2015-01-02  20.129999  20.280001  19.809999  20.129999  19.536913  2842000\n",
       "2015-01-05  20.129999  20.190001  19.700001  19.790001  19.206934  4948800\n",
       "2015-01-06  19.820000  19.840000  19.170000  19.190001  18.624611  4944100\n",
       "2015-01-07  19.330000  19.500000  19.080000  19.139999  18.576082  8045200"
      ]
     },
     "execution_count": 24,
     "metadata": {},
     "output_type": "execute_result"
    }
   ],
   "source": [
    "fb.head()"
   ]
  },
  {
   "cell_type": "code",
   "execution_count": 25,
   "metadata": {},
   "outputs": [
    {
     "data": {
      "text/html": [
       "<div>\n",
       "<table border=\"1\" class=\"dataframe\">\n",
       "  <thead>\n",
       "    <tr style=\"text-align: right;\">\n",
       "      <th></th>\n",
       "      <th>Open</th>\n",
       "      <th>High</th>\n",
       "      <th>Low</th>\n",
       "      <th>Close</th>\n",
       "      <th>Adj Close</th>\n",
       "      <th>Volume</th>\n",
       "    </tr>\n",
       "    <tr>\n",
       "      <th>Date</th>\n",
       "      <th></th>\n",
       "      <th></th>\n",
       "      <th></th>\n",
       "      <th></th>\n",
       "      <th></th>\n",
       "      <th></th>\n",
       "    </tr>\n",
       "  </thead>\n",
       "  <tbody>\n",
       "    <tr>\n",
       "      <th>2014-12-31</th>\n",
       "      <td>46.730000</td>\n",
       "      <td>47.439999</td>\n",
       "      <td>46.450001</td>\n",
       "      <td>46.450001</td>\n",
       "      <td>42.848763</td>\n",
       "      <td>21552500</td>\n",
       "    </tr>\n",
       "    <tr>\n",
       "      <th>2015-01-02</th>\n",
       "      <td>46.660000</td>\n",
       "      <td>47.419998</td>\n",
       "      <td>46.540001</td>\n",
       "      <td>46.759998</td>\n",
       "      <td>43.134731</td>\n",
       "      <td>27913900</td>\n",
       "    </tr>\n",
       "    <tr>\n",
       "      <th>2015-01-05</th>\n",
       "      <td>46.369999</td>\n",
       "      <td>46.730000</td>\n",
       "      <td>46.250000</td>\n",
       "      <td>46.330002</td>\n",
       "      <td>42.738068</td>\n",
       "      <td>39673900</td>\n",
       "    </tr>\n",
       "    <tr>\n",
       "      <th>2015-01-06</th>\n",
       "      <td>46.380001</td>\n",
       "      <td>46.750000</td>\n",
       "      <td>45.540001</td>\n",
       "      <td>45.650002</td>\n",
       "      <td>42.110783</td>\n",
       "      <td>36447900</td>\n",
       "    </tr>\n",
       "    <tr>\n",
       "      <th>2015-01-07</th>\n",
       "      <td>45.980000</td>\n",
       "      <td>46.459999</td>\n",
       "      <td>45.490002</td>\n",
       "      <td>46.230000</td>\n",
       "      <td>42.645817</td>\n",
       "      <td>29114100</td>\n",
       "    </tr>\n",
       "  </tbody>\n",
       "</table>\n",
       "</div>"
      ],
      "text/plain": [
       "                 Open       High        Low      Close  Adj Close    Volume\n",
       "Date                                                                       \n",
       "2014-12-31  46.730000  47.439999  46.450001  46.450001  42.848763  21552500\n",
       "2015-01-02  46.660000  47.419998  46.540001  46.759998  43.134731  27913900\n",
       "2015-01-05  46.369999  46.730000  46.250000  46.330002  42.738068  39673900\n",
       "2015-01-06  46.380001  46.750000  45.540001  45.650002  42.110783  36447900\n",
       "2015-01-07  45.980000  46.459999  45.490002  46.230000  42.645817  29114100"
      ]
     },
     "execution_count": 25,
     "metadata": {},
     "output_type": "execute_result"
    }
   ],
   "source": [
    "ms.head()"
   ]
  },
  {
   "cell_type": "code",
   "execution_count": 26,
   "metadata": {},
   "outputs": [
    {
     "data": {
      "text/html": [
       "<div>\n",
       "<table border=\"1\" class=\"dataframe\">\n",
       "  <thead>\n",
       "    <tr style=\"text-align: right;\">\n",
       "      <th></th>\n",
       "      <th>Open</th>\n",
       "      <th>High</th>\n",
       "      <th>Low</th>\n",
       "      <th>Close</th>\n",
       "      <th>Adj Close</th>\n",
       "      <th>Volume</th>\n",
       "    </tr>\n",
       "  </thead>\n",
       "  <tbody>\n",
       "    <tr>\n",
       "      <th>count</th>\n",
       "      <td>780.000000</td>\n",
       "      <td>780.000000</td>\n",
       "      <td>780.000000</td>\n",
       "      <td>780.000000</td>\n",
       "      <td>780.000000</td>\n",
       "      <td>7.800000e+02</td>\n",
       "    </tr>\n",
       "    <tr>\n",
       "      <th>mean</th>\n",
       "      <td>80.212705</td>\n",
       "      <td>81.285654</td>\n",
       "      <td>79.022397</td>\n",
       "      <td>80.264897</td>\n",
       "      <td>79.914215</td>\n",
       "      <td>1.204453e+07</td>\n",
       "    </tr>\n",
       "    <tr>\n",
       "      <th>std</th>\n",
       "      <td>64.226121</td>\n",
       "      <td>65.048907</td>\n",
       "      <td>63.190963</td>\n",
       "      <td>64.198375</td>\n",
       "      <td>64.327846</td>\n",
       "      <td>8.221848e+06</td>\n",
       "    </tr>\n",
       "    <tr>\n",
       "      <th>min</th>\n",
       "      <td>19.250000</td>\n",
       "      <td>19.500000</td>\n",
       "      <td>18.940001</td>\n",
       "      <td>19.139999</td>\n",
       "      <td>18.576082</td>\n",
       "      <td>1.311200e+06</td>\n",
       "    </tr>\n",
       "    <tr>\n",
       "      <th>25%</th>\n",
       "      <td>25.525000</td>\n",
       "      <td>26.085000</td>\n",
       "      <td>24.845000</td>\n",
       "      <td>25.475000</td>\n",
       "      <td>25.134513</td>\n",
       "      <td>7.215200e+06</td>\n",
       "    </tr>\n",
       "    <tr>\n",
       "      <th>50%</th>\n",
       "      <td>53.379999</td>\n",
       "      <td>54.034999</td>\n",
       "      <td>52.930000</td>\n",
       "      <td>53.420000</td>\n",
       "      <td>53.035403</td>\n",
       "      <td>9.728700e+06</td>\n",
       "    </tr>\n",
       "    <tr>\n",
       "      <th>75%</th>\n",
       "      <td>113.322502</td>\n",
       "      <td>115.779999</td>\n",
       "      <td>110.297499</td>\n",
       "      <td>113.702501</td>\n",
       "      <td>113.261238</td>\n",
       "      <td>1.408885e+07</td>\n",
       "    </tr>\n",
       "    <tr>\n",
       "      <th>max</th>\n",
       "      <td>245.770004</td>\n",
       "      <td>249.270004</td>\n",
       "      <td>244.449997</td>\n",
       "      <td>246.850006</td>\n",
       "      <td>246.850006</td>\n",
       "      <td>9.232320e+07</td>\n",
       "    </tr>\n",
       "  </tbody>\n",
       "</table>\n",
       "</div>"
      ],
      "text/plain": [
       "             Open        High         Low       Close   Adj Close  \\\n",
       "count  780.000000  780.000000  780.000000  780.000000  780.000000   \n",
       "mean    80.212705   81.285654   79.022397   80.264897   79.914215   \n",
       "std     64.226121   65.048907   63.190963   64.198375   64.327846   \n",
       "min     19.250000   19.500000   18.940001   19.139999   18.576082   \n",
       "25%     25.525000   26.085000   24.845000   25.475000   25.134513   \n",
       "50%     53.379999   54.034999   52.930000   53.420000   53.035403   \n",
       "75%    113.322502  115.779999  110.297499  113.702501  113.261238   \n",
       "max    245.770004  249.270004  244.449997  246.850006  246.850006   \n",
       "\n",
       "             Volume  \n",
       "count  7.800000e+02  \n",
       "mean   1.204453e+07  \n",
       "std    8.221848e+06  \n",
       "min    1.311200e+06  \n",
       "25%    7.215200e+06  \n",
       "50%    9.728700e+06  \n",
       "75%    1.408885e+07  \n",
       "max    9.232320e+07  "
      ]
     },
     "execution_count": 26,
     "metadata": {},
     "output_type": "execute_result"
    }
   ],
   "source": [
    "fb.describe()"
   ]
  },
  {
   "cell_type": "code",
   "execution_count": 27,
   "metadata": {},
   "outputs": [
    {
     "data": {
      "text/html": [
       "<div>\n",
       "<table border=\"1\" class=\"dataframe\">\n",
       "  <thead>\n",
       "    <tr style=\"text-align: right;\">\n",
       "      <th></th>\n",
       "      <th>Open</th>\n",
       "      <th>High</th>\n",
       "      <th>Low</th>\n",
       "      <th>Close</th>\n",
       "      <th>Adj Close</th>\n",
       "      <th>Volume</th>\n",
       "    </tr>\n",
       "  </thead>\n",
       "  <tbody>\n",
       "    <tr>\n",
       "      <th>count</th>\n",
       "      <td>780.000000</td>\n",
       "      <td>780.000000</td>\n",
       "      <td>780.000000</td>\n",
       "      <td>780.000000</td>\n",
       "      <td>780.000000</td>\n",
       "      <td>7.800000e+02</td>\n",
       "    </tr>\n",
       "    <tr>\n",
       "      <th>mean</th>\n",
       "      <td>58.912308</td>\n",
       "      <td>59.372308</td>\n",
       "      <td>58.465000</td>\n",
       "      <td>58.945397</td>\n",
       "      <td>56.931553</td>\n",
       "      <td>2.978900e+07</td>\n",
       "    </tr>\n",
       "    <tr>\n",
       "      <th>std</th>\n",
       "      <td>12.852040</td>\n",
       "      <td>12.868060</td>\n",
       "      <td>12.802831</td>\n",
       "      <td>12.830350</td>\n",
       "      <td>13.670080</td>\n",
       "      <td>1.522319e+07</td>\n",
       "    </tr>\n",
       "    <tr>\n",
       "      <th>min</th>\n",
       "      <td>40.340000</td>\n",
       "      <td>40.740002</td>\n",
       "      <td>39.720001</td>\n",
       "      <td>40.290001</td>\n",
       "      <td>37.267815</td>\n",
       "      <td>7.425600e+06</td>\n",
       "    </tr>\n",
       "    <tr>\n",
       "      <th>25%</th>\n",
       "      <td>47.894998</td>\n",
       "      <td>48.295000</td>\n",
       "      <td>47.535001</td>\n",
       "      <td>47.974998</td>\n",
       "      <td>44.792073</td>\n",
       "      <td>2.096685e+07</td>\n",
       "    </tr>\n",
       "    <tr>\n",
       "      <th>50%</th>\n",
       "      <td>56.150002</td>\n",
       "      <td>56.640001</td>\n",
       "      <td>55.700001</td>\n",
       "      <td>56.209999</td>\n",
       "      <td>53.775458</td>\n",
       "      <td>2.623125e+07</td>\n",
       "    </tr>\n",
       "    <tr>\n",
       "      <th>75%</th>\n",
       "      <td>67.892500</td>\n",
       "      <td>68.174997</td>\n",
       "      <td>67.447500</td>\n",
       "      <td>67.740000</td>\n",
       "      <td>66.565508</td>\n",
       "      <td>3.408020e+07</td>\n",
       "    </tr>\n",
       "    <tr>\n",
       "      <th>max</th>\n",
       "      <td>95.139999</td>\n",
       "      <td>96.070000</td>\n",
       "      <td>93.720001</td>\n",
       "      <td>95.010002</td>\n",
       "      <td>94.565781</td>\n",
       "      <td>1.691640e+08</td>\n",
       "    </tr>\n",
       "  </tbody>\n",
       "</table>\n",
       "</div>"
      ],
      "text/plain": [
       "             Open        High         Low       Close   Adj Close  \\\n",
       "count  780.000000  780.000000  780.000000  780.000000  780.000000   \n",
       "mean    58.912308   59.372308   58.465000   58.945397   56.931553   \n",
       "std     12.852040   12.868060   12.802831   12.830350   13.670080   \n",
       "min     40.340000   40.740002   39.720001   40.290001   37.267815   \n",
       "25%     47.894998   48.295000   47.535001   47.974998   44.792073   \n",
       "50%     56.150002   56.640001   55.700001   56.209999   53.775458   \n",
       "75%     67.892500   68.174997   67.447500   67.740000   66.565508   \n",
       "max     95.139999   96.070000   93.720001   95.010002   94.565781   \n",
       "\n",
       "             Volume  \n",
       "count  7.800000e+02  \n",
       "mean   2.978900e+07  \n",
       "std    1.522319e+07  \n",
       "min    7.425600e+06  \n",
       "25%    2.096685e+07  \n",
       "50%    2.623125e+07  \n",
       "75%    3.408020e+07  \n",
       "max    1.691640e+08  "
      ]
     },
     "execution_count": 27,
     "metadata": {},
     "output_type": "execute_result"
    }
   ],
   "source": [
    "ms.describe()"
   ]
  },
  {
   "cell_type": "code",
   "execution_count": 28,
   "metadata": {},
   "outputs": [
    {
     "data": {
      "text/plain": [
       "46.229999999999997"
      ]
     },
     "execution_count": 28,
     "metadata": {},
     "output_type": "execute_result"
    }
   ],
   "source": [
    "ms.loc['2015-01-07', 'Close']"
   ]
  },
  {
   "cell_type": "code",
   "execution_count": 29,
   "metadata": {},
   "outputs": [
    {
     "data": {
      "text/plain": [
       "Date\n",
       "2015-01-02    20.129999\n",
       "2015-01-05    19.790001\n",
       "2015-01-06    19.190001\n",
       "2015-01-07    19.139999\n",
       "2015-01-08    19.860001\n",
       "2015-01-09    19.940001\n",
       "2015-01-12    19.690001\n",
       "2015-01-13    19.660000\n",
       "2015-01-14    19.740000\n",
       "2015-01-15    19.600000\n",
       "2015-01-16    19.959999\n",
       "2015-01-20    20.020000\n",
       "2015-01-21    20.299999\n",
       "2015-01-22    20.650000\n",
       "2015-01-23    20.709999\n",
       "2015-01-26    20.620001\n",
       "2015-01-27    19.629999\n",
       "2015-01-28    19.309999\n",
       "2015-01-29    19.780001\n",
       "2015-01-30    19.200001\n",
       "2015-02-02    19.620001\n",
       "2015-02-03    20.110001\n",
       "2015-02-04    20.160000\n",
       "2015-02-05    20.490000\n",
       "2015-02-06    20.400000\n",
       "2015-02-09    20.379999\n",
       "2015-02-10    20.950001\n",
       "2015-02-11    20.809999\n",
       "2015-02-12    22.299999\n",
       "2015-02-13    22.309999\n",
       "                ...    \n",
       "2015-11-18    31.030001\n",
       "2015-11-19    31.120001\n",
       "2015-11-20    31.389999\n",
       "2015-11-23    30.920000\n",
       "2015-11-24    31.170000\n",
       "2015-11-25    31.129999\n",
       "2015-11-27    31.389999\n",
       "2015-11-30    31.719999\n",
       "2015-12-01    32.750000\n",
       "2015-12-02    32.500000\n",
       "2015-12-03    32.430000\n",
       "2015-12-04    33.750000\n",
       "2015-12-07    33.110001\n",
       "2015-12-08    33.560001\n",
       "2015-12-09    32.709999\n",
       "2015-12-10    32.980000\n",
       "2015-12-11    32.490002\n",
       "2015-12-14    32.570000\n",
       "2015-12-15    32.970001\n",
       "2015-12-16    33.169998\n",
       "2015-12-17    32.669998\n",
       "2015-12-18    32.139999\n",
       "2015-12-21    32.900002\n",
       "2015-12-22    32.930000\n",
       "2015-12-23    33.060001\n",
       "2015-12-24    33.169998\n",
       "2015-12-28    33.139999\n",
       "2015-12-29    33.680000\n",
       "2015-12-30    33.389999\n",
       "2015-12-31    32.959999\n",
       "Name: Close, dtype: float64"
      ]
     },
     "execution_count": 29,
     "metadata": {},
     "output_type": "execute_result"
    }
   ],
   "source": [
    "fb.loc['2015-01-01':'2015-12-31', 'Close']"
   ]
  },
  {
   "cell_type": "code",
   "execution_count": 33,
   "metadata": {},
   "outputs": [
    {
     "data": {
      "image/png": "[encoded data removed]",
      "text/plain": [
       "<matplotlib.figure.Figure at 0x7f5e7d24e3c8>"
      ]
     },
     "metadata": {},
     "output_type": "display_data"
    }
   ],
   "source": [
    "plt.figure(figsize=(10, 8))\n",
    "fb.loc['2015-01-01':'2015-12-31', 'Close'].plot()\n",
    "plt.show()"
   ]
  },
  {
   "cell_type": "code",
   "execution_count": null,
   "metadata": {
    "collapsed": true
   },
   "outputs": [],
   "source": []
  }
 ],
 "metadata": {
  "kernelspec": {
   "display_name": "Python 3",
   "language": "python",
   "name": "python3"
  },
  "language_info": {
   "codemirror_mode": {
    "name": "ipython",
    "version": 3
   },
   "file_extension": ".py",
   "mimetype": "text/x-python",
   "name": "python",
   "nbconvert_exporter": "python",
   "pygments_lexer": "ipython3",
   "version": "3.6.2"
  }
 },
 "nbformat": 4,
 "nbformat_minor": 2
}
